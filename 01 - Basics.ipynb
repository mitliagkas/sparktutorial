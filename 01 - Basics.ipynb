{
 "metadata": {
  "name": "",
  "signature": "sha256:6c7df0a44536df259b2dff43a4bcbad8edd2718e3cca88b331f25d18ae513d75"
 },
 "nbformat": 3,
 "nbformat_minor": 0,
 "worksheets": [
  {
   "cells": [
    {
     "cell_type": "markdown",
     "metadata": {},
     "source": [
      "https://github.com/mitliagkas/sparktutorial"
     ]
    },
    {
     "cell_type": "heading",
     "level": 2,
     "metadata": {},
     "source": [
      "A Spark context should already have been created"
     ]
    },
    {
     "cell_type": "heading",
     "level": 3,
     "metadata": {},
     "source": [
      "The context gives us access to all the Spark functionality"
     ]
    },
    {
     "cell_type": "code",
     "collapsed": true,
     "input": [
      "sc"
     ],
     "language": "python",
     "metadata": {},
     "outputs": [
      {
       "metadata": {},
       "output_type": "pyout",
       "prompt_number": 1,
       "text": [
        "<pyspark.context.SparkContext at 0x7fe3c204dfd0>"
       ]
      }
     ],
     "prompt_number": 1
    },
    {
     "cell_type": "heading",
     "level": 3,
     "metadata": {},
     "source": [
      "Feeding Spark data: via a method"
     ]
    },
    {
     "cell_type": "heading",
     "level": 4,
     "metadata": {},
     "source": [
      "Local copy: Data not yet \"on Spark\""
     ]
    },
    {
     "cell_type": "code",
     "collapsed": false,
     "input": [
      "local_data = range(100)"
     ],
     "language": "python",
     "metadata": {},
     "outputs": [],
     "prompt_number": 2
    },
    {
     "cell_type": "heading",
     "level": 4,
     "metadata": {},
     "source": [
      "`parallelize()` makes an RDD out of our local data "
     ]
    },
    {
     "cell_type": "code",
     "collapsed": false,
     "input": [
      "distributed_data = sc.parallelize(local_data)\n",
      "distributed_data"
     ],
     "language": "python",
     "metadata": {},
     "outputs": [
      {
       "metadata": {},
       "output_type": "pyout",
       "prompt_number": 3,
       "text": [
        "ParallelCollectionRDD[0] at parallelize at PythonRDD.scala:286"
       ]
      }
     ],
     "prompt_number": 3
    },
    {
     "cell_type": "heading",
     "level": 3,
     "metadata": {},
     "source": [
      "Sum of all odds"
     ]
    },
    {
     "cell_type": "heading",
     "level": 4,
     "metadata": {},
     "source": [
      "Use a filter operation."
     ]
    },
    {
     "cell_type": "markdown",
     "metadata": {},
     "source": [
      "\n",
      "Use python lambdas for anonymous functions."
     ]
    },
    {
     "cell_type": "code",
     "collapsed": false,
     "input": [
      "odds = distributed_data.filter(\n",
      "            lambda x: x % 2 == 1\n",
      ")"
     ],
     "language": "python",
     "metadata": {},
     "outputs": [],
     "prompt_number": 4
    },
    {
     "cell_type": "markdown",
     "metadata": {},
     "source": [
      "No actual computation has happened yet. We're **just describing transformations**."
     ]
    },
    {
     "cell_type": "code",
     "collapsed": false,
     "input": [
      "print odds.toDebugString()"
     ],
     "language": "python",
     "metadata": {},
     "outputs": [
      {
       "output_type": "stream",
       "stream": "stdout",
       "text": [
        "PythonRDD[1] at RDD at PythonRDD.scala:37 (8 partitions)\n",
        "  ParallelCollectionRDD[0] at parallelize at PythonRDD.scala:286 (8 partitions)\n"
       ]
      }
     ],
     "prompt_number": 8
    },
    {
     "cell_type": "heading",
     "level": 4,
     "metadata": {},
     "source": [
      "An action: `sum()`"
     ]
    },
    {
     "cell_type": "markdown",
     "metadata": {},
     "source": [
      "**Lazy calculation**: Spark will only run jobs and calculate stuff just now. "
     ]
    },
    {
     "cell_type": "code",
     "collapsed": false,
     "input": [
      "odds.sum()"
     ],
     "language": "python",
     "metadata": {},
     "outputs": [
      {
       "metadata": {},
       "output_type": "pyout",
       "prompt_number": 9,
       "text": [
        "2500"
       ]
      }
     ],
     "prompt_number": 9
    },
    {
     "cell_type": "heading",
     "level": 4,
     "metadata": {},
     "source": [
      "Another action: `take()`"
     ]
    },
    {
     "cell_type": "code",
     "collapsed": false,
     "input": [
      "distributed_data.take(10)"
     ],
     "language": "python",
     "metadata": {},
     "outputs": [
      {
       "metadata": {},
       "output_type": "pyout",
       "prompt_number": 10,
       "text": [
        "[0, 1, 2, 3, 4, 5, 6, 7, 8, 9]"
       ]
      }
     ],
     "prompt_number": 10
    }
   ],
   "metadata": {}
  }
 ]
}