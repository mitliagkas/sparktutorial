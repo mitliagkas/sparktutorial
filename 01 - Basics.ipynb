{
 "metadata": {
  "name": "",
  "signature": "sha256:580c5eae121d11d7f5478076e159c5ba9c1c4eeedfbe8cbad2344ff3afa1e797"
 },
 "nbformat": 3,
 "nbformat_minor": 0,
 "worksheets": [
  {
   "cells": [
    {
     "cell_type": "heading",
     "level": 2,
     "metadata": {},
     "source": [
      "https://github.com/mitliagkas/sparktutorial"
     ]
    },
    {
     "cell_type": "heading",
     "level": 2,
     "metadata": {},
     "source": [
      "Start `pyspark`."
     ]
    },
    {
     "cell_type": "heading",
     "level": 3,
     "metadata": {},
     "source": [
      "A Spark context should already have been created"
     ]
    },
    {
     "cell_type": "heading",
     "level": 3,
     "metadata": {},
     "source": [
      "The context gives us access to all the Spark functionality"
     ]
    },
    {
     "cell_type": "code",
     "collapsed": true,
     "input": [
      "sc"
     ],
     "language": "python",
     "metadata": {},
     "outputs": [
      {
       "metadata": {},
       "output_type": "pyout",
       "prompt_number": 1,
       "text": [
        "<pyspark.context.SparkContext at 0x7f877f39cf50>"
       ]
      }
     ],
     "prompt_number": 1
    },
    {
     "cell_type": "heading",
     "level": 3,
     "metadata": {},
     "source": [
      "Feeding Spark data: via a method"
     ]
    },
    {
     "cell_type": "heading",
     "level": 4,
     "metadata": {},
     "source": [
      "Local copy: Data not yet \"on Spark\""
     ]
    },
    {
     "cell_type": "code",
     "collapsed": false,
     "input": [
      "local_data = range(100)"
     ],
     "language": "python",
     "metadata": {},
     "outputs": [],
     "prompt_number": 2
    },
    {
     "cell_type": "heading",
     "level": 4,
     "metadata": {},
     "source": [
      "`parallelize()` makes a Resilient Distributed Dataset (RDD) out of our local data "
     ]
    },
    {
     "cell_type": "code",
     "collapsed": false,
     "input": [
      "distributed_data = sc.parallelize(local_data)\n",
      "distributed_data"
     ],
     "language": "python",
     "metadata": {},
     "outputs": [
      {
       "metadata": {},
       "output_type": "pyout",
       "prompt_number": 3,
       "text": [
        "ParallelCollectionRDD[0] at parallelize at PythonRDD.scala:286"
       ]
      }
     ],
     "prompt_number": 3
    },
    {
     "cell_type": "heading",
     "level": 3,
     "metadata": {},
     "source": [
      "Sum of all odds"
     ]
    },
    {
     "cell_type": "heading",
     "level": 4,
     "metadata": {},
     "source": [
      "Use a filter operation."
     ]
    },
    {
     "cell_type": "markdown",
     "metadata": {},
     "source": [
      "\n",
      "Use python lambdas for anonymous functions."
     ]
    },
    {
     "cell_type": "code",
     "collapsed": false,
     "input": [
      "def isodd(x):\n",
      "    return x % 2 == 1\n",
      "\n",
      "odds = distributed_data.filter( isodd )"
     ],
     "language": "python",
     "metadata": {},
     "outputs": [],
     "prompt_number": 5
    },
    {
     "cell_type": "markdown",
     "metadata": {},
     "source": [
      "Alternatively:"
     ]
    },
    {
     "cell_type": "code",
     "collapsed": false,
     "input": [
      "odds = distributed_data.filter(\n",
      "            lambda x: x % 2 == 1\n",
      ")"
     ],
     "language": "python",
     "metadata": {},
     "outputs": [],
     "prompt_number": 4
    },
    {
     "cell_type": "markdown",
     "metadata": {},
     "source": [
      "No actual computation has happened yet. We're **just describing transformations**."
     ]
    },
    {
     "cell_type": "code",
     "collapsed": false,
     "input": [
      "print odds.toDebugString()"
     ],
     "language": "python",
     "metadata": {},
     "outputs": [
      {
       "output_type": "stream",
       "stream": "stdout",
       "text": [
        "PythonRDD[1] at RDD at PythonRDD.scala:37 (8 partitions)\n",
        "  ParallelCollectionRDD[0] at parallelize at PythonRDD.scala:286 (8 partitions)\n"
       ]
      }
     ],
     "prompt_number": 6
    },
    {
     "cell_type": "heading",
     "level": 4,
     "metadata": {},
     "source": [
      "An action: `sum()`"
     ]
    },
    {
     "cell_type": "markdown",
     "metadata": {},
     "source": [
      "**Lazy calculation**: Spark will only run jobs and calculate stuff just now. "
     ]
    },
    {
     "cell_type": "code",
     "collapsed": false,
     "input": [
      "odds.sum()"
     ],
     "language": "python",
     "metadata": {},
     "outputs": [
      {
       "metadata": {},
       "output_type": "pyout",
       "prompt_number": 7,
       "text": [
        "2500"
       ]
      }
     ],
     "prompt_number": 7
    },
    {
     "cell_type": "heading",
     "level": 4,
     "metadata": {},
     "source": [
      "Another action: `take()`"
     ]
    },
    {
     "cell_type": "code",
     "collapsed": false,
     "input": [
      "distributed_data.take(10)"
     ],
     "language": "python",
     "metadata": {},
     "outputs": [
      {
       "metadata": {},
       "output_type": "pyout",
       "prompt_number": 8,
       "text": [
        "[0, 1, 2, 3, 4, 5, 6, 7, 8, 9]"
       ]
      }
     ],
     "prompt_number": 8
    },
    {
     "cell_type": "code",
     "collapsed": false,
     "input": [],
     "language": "python",
     "metadata": {},
     "outputs": []
    }
   ],
   "metadata": {}
  }
 ]
}