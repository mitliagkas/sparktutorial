{
 "metadata": {
  "name": "",
  "signature": "sha256:f3b69c76ff8382fc88cc73a26d58124fddc04373aa984c760361039e8398dfbe"
 },
 "nbformat": 3,
 "nbformat_minor": 0,
 "worksheets": [
  {
   "cells": [
    {
     "cell_type": "heading",
     "level": 3,
     "metadata": {},
     "source": [
      "Load data from text file"
     ]
    },
    {
     "cell_type": "code",
     "collapsed": false,
     "input": [
      "data = sc.textFile('iliad.mb.txt')"
     ],
     "language": "python",
     "metadata": {},
     "outputs": [],
     "prompt_number": 1
    },
    {
     "cell_type": "code",
     "collapsed": false,
     "input": [
      "print data.toDebugString()"
     ],
     "language": "python",
     "metadata": {},
     "outputs": [
      {
       "output_type": "stream",
       "stream": "stdout",
       "text": [
        "MappedRDD[1] at textFile at NativeMethodAccessorImpl.java:-2 (2 partitions)\n",
        "  HadoopRDD[0] at textFile at NativeMethodAccessorImpl.java:-2 (2 partitions)\n"
       ]
      }
     ],
     "prompt_number": 2
    },
    {
     "cell_type": "markdown",
     "metadata": {},
     "source": [
      "For text files, `textFile()` creates one RDD entry per line. Let us count the lines."
     ]
    },
    {
     "cell_type": "code",
     "collapsed": false,
     "input": [
      "data.count()"
     ],
     "language": "python",
     "metadata": {},
     "outputs": [
      {
       "metadata": {},
       "output_type": "pyout",
       "prompt_number": 3,
       "text": [
        "13444"
       ]
      }
     ],
     "prompt_number": 3
    },
    {
     "cell_type": "heading",
     "level": 3,
     "metadata": {},
     "source": [
      "Count total number of words"
     ]
    },
    {
     "cell_type": "markdown",
     "metadata": {},
     "source": [
      "`map()` each line to an integer (word count)."
     ]
    },
    {
     "cell_type": "code",
     "collapsed": false,
     "input": [
      "linecounts = data.map(\n",
      "        lambda line: len(line.split(' ')) \n",
      ")"
     ],
     "language": "python",
     "metadata": {},
     "outputs": [],
     "prompt_number": 4
    },
    {
     "cell_type": "code",
     "collapsed": false,
     "input": [
      "linecounts.sum()"
     ],
     "language": "python",
     "metadata": {},
     "outputs": [
      {
       "metadata": {},
       "output_type": "pyout",
       "prompt_number": 5,
       "text": [
        "154642"
       ]
      }
     ],
     "prompt_number": 5
    },
    {
     "cell_type": "heading",
     "level": 3,
     "metadata": {},
     "source": [
      "Calculate individual wordcounts"
     ]
    },
    {
     "cell_type": "markdown",
     "metadata": {},
     "source": [
      "`flatmap()` each line to a **list** of words."
     ]
    },
    {
     "cell_type": "code",
     "collapsed": false,
     "input": [
      "words = data.flatMap(\n",
      "        lambda line: line.split(' ')\n",
      ")"
     ],
     "language": "python",
     "metadata": {},
     "outputs": [],
     "prompt_number": 6
    },
    {
     "cell_type": "markdown",
     "metadata": {},
     "source": [
      "`map()` each word to **list** of (word,1) pairs."
     ]
    },
    {
     "cell_type": "code",
     "collapsed": false,
     "input": [
      "word_pairs = words.map(\n",
      "        lambda word: (word,1)\n",
      ")"
     ],
     "language": "python",
     "metadata": {},
     "outputs": [],
     "prompt_number": 7
    },
    {
     "cell_type": "markdown",
     "metadata": {},
     "source": [
      "`reduceByKey()` the **list** of (word,1) pairs to (word,count)"
     ]
    },
    {
     "cell_type": "code",
     "collapsed": false,
     "input": [
      "from operator import add\n",
      "word_counts = word_pairs.reduceByKey(add)"
     ],
     "language": "python",
     "metadata": {},
     "outputs": [],
     "prompt_number": 8
    },
    {
     "cell_type": "markdown",
     "metadata": {},
     "source": [
      "No action taken yet! But we can see the DAG describing the tranformations leading to this RDD."
     ]
    },
    {
     "cell_type": "code",
     "collapsed": false,
     "input": [
      "print word_pairs.toDebugString()"
     ],
     "language": "python",
     "metadata": {},
     "outputs": [
      {
       "output_type": "stream",
       "stream": "stdout",
       "text": [
        "PythonRDD[8] at RDD at PythonRDD.scala:37 (2 partitions)\n",
        "  MappedRDD[1] at textFile at NativeMethodAccessorImpl.java:-2 (2 partitions)\n",
        "    HadoopRDD[0] at textFile at NativeMethodAccessorImpl.java:-2 (2 partitions)\n"
       ]
      }
     ],
     "prompt_number": 9
    },
    {
     "cell_type": "heading",
     "level": 3,
     "metadata": {},
     "source": [
      "Action: get results"
     ]
    },
    {
     "cell_type": "code",
     "collapsed": false,
     "input": [
      "word_counts.take(7)"
     ],
     "language": "python",
     "metadata": {},
     "outputs": [
      {
       "metadata": {},
       "output_type": "pyout",
       "prompt_number": 10,
       "text": [
        "[(u'', 2021),\n",
        " (u'fawn', 5),\n",
        " (u'shouted,', 1),\n",
        " (u'Eriopis', 1),\n",
        " (u'four', 14),\n",
        " (u'scheming', 7),\n",
        " (u'up.', 6)]"
       ]
      }
     ],
     "prompt_number": 10
    },
    {
     "cell_type": "code",
     "collapsed": false,
     "input": [],
     "language": "python",
     "metadata": {},
     "outputs": []
    }
   ],
   "metadata": {}
  }
 ]
}