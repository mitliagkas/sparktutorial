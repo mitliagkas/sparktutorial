{
 "metadata": {
  "name": "",
  "signature": "sha256:18089485c14b435e633072131bc4db16b0266babc1d680009bb4358d0515f93d"
 },
 "nbformat": 3,
 "nbformat_minor": 0,
 "worksheets": [
  {
   "cells": [
    {
     "cell_type": "heading",
     "level": 2,
     "metadata": {},
     "source": [
      "Eigendecomposition for subset of PLD"
     ]
    },
    {
     "cell_type": "heading",
     "level": 3,
     "metadata": {},
     "source": [
      "Get the subset of the graph"
     ]
    },
    {
     "cell_type": "markdown",
     "metadata": {},
     "source": [
      "In this segment we load the dataset and keep only a tiny subset"
     ]
    },
    {
     "cell_type": "heading",
     "level": 4,
     "metadata": {},
     "source": [
      "Load first partition of PLD"
     ]
    },
    {
     "cell_type": "code",
     "collapsed": false,
     "input": [
      "data = sc.textFile('small-pld-arc')"
     ],
     "language": "python",
     "metadata": {},
     "outputs": [],
     "prompt_number": 1
    },
    {
     "cell_type": "heading",
     "level": 4,
     "metadata": {},
     "source": [
      "Keep only nodes with ID less than 5e4"
     ]
    },
    {
     "cell_type": "code",
     "collapsed": false,
     "input": [
      "size = 5e4\n",
      "small = data.map(\n",
      "                   lambda line: [int(x) for x in line.split('\\t')]\n",
      "         ).filter(\n",
      "                   lambda (source, destination): source<size and destination<size\n",
      "         )"
     ],
     "language": "python",
     "metadata": {},
     "outputs": [],
     "prompt_number": 2
    },
    {
     "cell_type": "heading",
     "level": 4,
     "metadata": {},
     "source": [
      "Persist result"
     ]
    },
    {
     "cell_type": "code",
     "collapsed": false,
     "input": [
      "small.cache()"
     ],
     "language": "python",
     "metadata": {},
     "outputs": [
      {
       "metadata": {},
       "output_type": "pyout",
       "prompt_number": 3,
       "text": [
        "PythonRDD[2] at RDD at PythonRDD.scala:37"
       ]
      }
     ],
     "prompt_number": 3
    },
    {
     "cell_type": "code",
     "collapsed": false,
     "input": [
      "small.count()"
     ],
     "language": "python",
     "metadata": {},
     "outputs": [
      {
       "metadata": {},
       "output_type": "pyout",
       "prompt_number": 4,
       "text": [
        "127879"
       ]
      }
     ],
     "prompt_number": 4
    },
    {
     "cell_type": "code",
     "collapsed": false,
     "input": [
      "small.take(10)"
     ],
     "language": "python",
     "metadata": {},
     "outputs": [
      {
       "metadata": {},
       "output_type": "pyout",
       "prompt_number": 5,
       "text": [
        "[[70, 105],\n",
        " [86, 2106],\n",
        " [107, 103],\n",
        " [115, 903],\n",
        " [115, 6975],\n",
        " [115, 49424],\n",
        " [151, 44702],\n",
        " [201, 2211],\n",
        " [201, 4185],\n",
        " [201, 4271]]"
       ]
      }
     ],
     "prompt_number": 5
    },
    {
     "cell_type": "heading",
     "level": 2,
     "metadata": {},
     "source": [
      "Do the eigenvector calculation"
     ]
    },
    {
     "cell_type": "heading",
     "level": 3,
     "metadata": {},
     "source": [
      "Initialize First Iteration"
     ]
    },
    {
     "cell_type": "code",
     "collapsed": false,
     "input": [
      "x1 = small.map(lambda (source, dest): (dest,1)).reduceByKey(add)"
     ],
     "language": "python",
     "metadata": {},
     "outputs": [],
     "prompt_number": 6
    },
    {
     "cell_type": "code",
     "collapsed": false,
     "input": [
      "x1.cache()\n",
      "x1.count()"
     ],
     "language": "python",
     "metadata": {},
     "outputs": [
      {
       "metadata": {},
       "output_type": "pyout",
       "prompt_number": 7,
       "text": [
        "8669"
       ]
      }
     ],
     "prompt_number": 7
    },
    {
     "cell_type": "heading",
     "level": 3,
     "metadata": {},
     "source": [
      "Exact iteration"
     ]
    },
    {
     "cell_type": "code",
     "collapsed": false,
     "input": [
      "x2 = x1.join(small).map(lambda (k,v): (v[1], v[0])).reduceByKey(add)"
     ],
     "language": "python",
     "metadata": {},
     "outputs": [],
     "prompt_number": 8
    },
    {
     "cell_type": "code",
     "collapsed": false,
     "input": [
      "x2.cache()"
     ],
     "language": "python",
     "metadata": {},
     "outputs": [
      {
       "metadata": {},
       "output_type": "pyout",
       "prompt_number": 9,
       "text": [
        "PythonRDD[22] at RDD at PythonRDD.scala:37"
       ]
      }
     ],
     "prompt_number": 9
    },
    {
     "cell_type": "code",
     "collapsed": false,
     "input": [
      "x2.count()"
     ],
     "language": "python",
     "metadata": {},
     "outputs": [
      {
       "metadata": {},
       "output_type": "pyout",
       "prompt_number": 10,
       "text": [
        "6356"
       ]
      }
     ],
     "prompt_number": 10
    },
    {
     "cell_type": "heading",
     "level": 3,
     "metadata": {},
     "source": [
      "Third iteration"
     ]
    },
    {
     "cell_type": "code",
     "collapsed": false,
     "input": [
      "x3 = x2.join(small).map(lambda (k,v): (v[1], v[0])).reduceByKey(add)"
     ],
     "language": "python",
     "metadata": {},
     "outputs": [],
     "prompt_number": 11
    },
    {
     "cell_type": "code",
     "collapsed": false,
     "input": [
      "x3.cache()"
     ],
     "language": "python",
     "metadata": {},
     "outputs": [
      {
       "metadata": {},
       "output_type": "pyout",
       "prompt_number": 12,
       "text": [
        "PythonRDD[35] at RDD at PythonRDD.scala:37"
       ]
      }
     ],
     "prompt_number": 12
    },
    {
     "cell_type": "code",
     "collapsed": false,
     "input": [
      "x3.count()"
     ],
     "language": "python",
     "metadata": {},
     "outputs": [
      {
       "metadata": {},
       "output_type": "pyout",
       "prompt_number": 13,
       "text": [
        "5995"
       ]
      }
     ],
     "prompt_number": 13
    },
    {
     "cell_type": "code",
     "collapsed": false,
     "input": [
      "x3.filter(lambda (k,v): v>0).take(4)"
     ],
     "language": "python",
     "metadata": {},
     "outputs": [
      {
       "metadata": {},
       "output_type": "pyout",
       "prompt_number": 14,
       "text": [
        "[(24576, 23), (18432, 1), (26528, 1), (32776, 3)]"
       ]
      }
     ],
     "prompt_number": 14
    },
    {
     "cell_type": "heading",
     "level": 3,
     "metadata": {},
     "source": [
      "Fourth Iteration"
     ]
    },
    {
     "cell_type": "code",
     "collapsed": false,
     "input": [
      "x4 = x3.join(small).map(lambda (k,v): (v[1], v[0])).reduceByKey(add)"
     ],
     "language": "python",
     "metadata": {},
     "outputs": [],
     "prompt_number": 15
    },
    {
     "cell_type": "code",
     "collapsed": false,
     "input": [
      "x4.cache()"
     ],
     "language": "python",
     "metadata": {},
     "outputs": [
      {
       "metadata": {},
       "output_type": "pyout",
       "prompt_number": 16,
       "text": [
        "PythonRDD[49] at RDD at PythonRDD.scala:37"
       ]
      }
     ],
     "prompt_number": 16
    },
    {
     "cell_type": "code",
     "collapsed": false,
     "input": [
      "x4.count()"
     ],
     "language": "python",
     "metadata": {},
     "outputs": [
      {
       "metadata": {},
       "output_type": "pyout",
       "prompt_number": 17,
       "text": [
        "5907"
       ]
      }
     ],
     "prompt_number": 17
    },
    {
     "cell_type": "heading",
     "level": 3,
     "metadata": {},
     "source": [
      "`join()` with node names"
     ]
    },
    {
     "cell_type": "code",
     "collapsed": false,
     "input": [
      "x4.filter(lambda (k,v): v>10000).take(4)"
     ],
     "language": "python",
     "metadata": {},
     "outputs": []
    },
    {
     "cell_type": "code",
     "collapsed": false,
     "input": [
      "names = sc.textFile('small-pld-index')"
     ],
     "language": "python",
     "metadata": {},
     "outputs": [],
     "prompt_number": 18
    },
    {
     "cell_type": "code",
     "collapsed": false,
     "input": [
      "def indexline(line):\n",
      "    parts = line.split('\\t')\n",
      "    return (int(parts[1]), parts[0])"
     ],
     "language": "python",
     "metadata": {},
     "outputs": [],
     "prompt_number": 19
    },
    {
     "cell_type": "code",
     "collapsed": false,
     "input": [
      "index = names.map(indexline).filter(lambda (k,v): k<size)"
     ],
     "language": "python",
     "metadata": {},
     "outputs": [],
     "prompt_number": 20
    },
    {
     "cell_type": "code",
     "collapsed": false,
     "input": [
      "index.cache()\n",
      "index.takeSample(True, 10)"
     ],
     "language": "python",
     "metadata": {},
     "outputs": [
      {
       "metadata": {},
       "output_type": "pyout",
       "prompt_number": 21,
       "text": [
        "[(48949, u'09ww.com'),\n",
        " (13349, u'020dn.cn'),\n",
        " (697, u'0-mac.net'),\n",
        " (15822, u'022kaoqishebei.com'),\n",
        " (10283, u'0154.jp'),\n",
        " (34909, u'06ankara.com'),\n",
        " (9427, u'0120242448.com'),\n",
        " (26534, u'0510xx.com'),\n",
        " (34272, u'06523.com'),\n",
        " (28088, u'0527h.com')]"
       ]
      }
     ],
     "prompt_number": 21
    },
    {
     "cell_type": "heading",
     "level": 3,
     "metadata": {},
     "source": [
      "Show top domains"
     ]
    },
    {
     "cell_type": "code",
     "collapsed": false,
     "input": [
      "topnodes = index.join(x4.filter(lambda (k,v): v>1e9))"
     ],
     "language": "python",
     "metadata": {},
     "outputs": [],
     "prompt_number": 36
    },
    {
     "cell_type": "code",
     "collapsed": false,
     "input": [
      "topnodes.cache()\n",
      "topnodes.takeSample(True, 10)"
     ],
     "language": "python",
     "metadata": {},
     "outputs": [
      {
       "metadata": {},
       "output_type": "pyout",
       "prompt_number": 37,
       "text": [
        "[(36118, (u'0719rc.com', 7246035027)),\n",
        " (44484, (u'0859rc.com', 7246035027)),\n",
        " (28860, (u'0536rc.com', 7246035027)),\n",
        " (25562, (u'0471rcw.com', 7246035027)),\n",
        " (37657, (u'0750rcw.com', 7246035027)),\n",
        " (46536, (u'0903rc.com', 7246035027)),\n",
        " (41034, (u'0798rc.com', 7246035027)),\n",
        " (24150, (u'0416rcw.com', 7246122060)),\n",
        " (44415, (u'0855rc.com', 7246035027)),\n",
        " (25757, (u'0482rc.com', 7246035027))]"
       ]
      }
     ],
     "prompt_number": 37
    }
   ],
   "metadata": {}
  }
 ]
}